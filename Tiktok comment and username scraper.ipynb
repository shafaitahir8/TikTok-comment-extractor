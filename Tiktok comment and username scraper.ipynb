{
 "cells": [
  {
   "cell_type": "code",
   "execution_count": null,
   "id": "542b31e8",
   "metadata": {},
   "outputs": [],
   "source": [
    "# Selenium Imports\n",
    "from selenium import webdriver\n",
    "from selenium.webdriver.common.keys import Keys\n",
    "from selenium.webdriver.support import expected_conditions as EC\n",
    "from selenium.webdriver.common.by import By\n",
    "from selenium.webdriver.support.wait import WebDriverWait\n",
    "from selenium.webdriver.common.action_chains import ActionChains\n",
    "from time import sleep\n"
   ]
  },
  {
   "cell_type": "code",
   "execution_count": null,
   "id": "80285ee1",
   "metadata": {},
   "outputs": [],
   "source": [
    "# Other imports here\n",
    "import os\n",
    "import numpy as np\n",
    "import pandas as pd\n",
    "import time\n",
    "import re\n",
    "from IPython.display import clear_output\n",
    "import pyautogui"
   ]
  },
  {
   "cell_type": "code",
   "execution_count": null,
   "id": "907791f9",
   "metadata": {},
   "outputs": [],
   "source": [
    "# Declare a Dataframe to store the usernames and comments\n",
    "data = {\n",
    "    'username':[],\n",
    "    'comment':[],\n",
    "    'likes':[],\n",
    "    'link':[],\n",
    "}\n",
    "df = pd.DataFrame(data)\n",
    "\n",
    "#Enter video link here\n",
    "videolink = ''"
   ]
  },
  {
   "cell_type": "code",
   "execution_count": null,
   "id": "18fe6416",
   "metadata": {},
   "outputs": [],
   "source": [
    "# download 'Chrome Driver' and run it\n",
    "driver = webdriver.Chrome('F:/downloood/chromedriver.exe')\n",
    "\n",
    "# Open tiktok with get() function and wait for it to open\n",
    "driver.get(videolink)      \n",
    "time.sleep(2)\n",
    "driver.maximize_window()\n",
    "time.sleep(7)"
   ]
  },
  {
   "cell_type": "code",
   "execution_count": null,
   "id": "26c681f5",
   "metadata": {},
   "outputs": [],
   "source": [
    "def get_comment_data(card):\n",
    "    \"\"\"Extract data from tiktok comment card\"\"\"\n",
    "    username = card.find_element(By.XPATH,'.//div[1]/div[1]/a').text\n",
    "    \n",
    "    link = card.find_element(By.XPATH,'.//div[1]/div[1]/a').get_attribute('href')\n",
    "    comment = card.find_element(By.XPATH,'.//div[1]/div[1]/p[1]').text\n",
    "    Likes = card.find_element(By.XPATH,'.//div[1]/div[1]/p[2]/div[1]/span').text\n",
    "\n",
    "    \n",
    "    dataa = (username, comment, Likes, link)\n",
    "    return dataa "
   ]
  },
  {
   "cell_type": "code",
   "execution_count": null,
   "id": "63c9a167",
   "metadata": {},
   "outputs": [],
   "source": [
    "# get all cmnt on the page\n",
    "data = []\n",
    "cmnt_ids = set()\n",
    "scrolling = True\n",
    "count = x = 0\n",
    "z=500\n",
    "k=10\n",
    "html = driver.find_element(By.XPATH,'//body')\n",
    "\n",
    "time.sleep(1)\n",
    "driver.execute_script('window.scrollTo(0,2000);')\n",
    "while scrolling:\n",
    "    page_cards = driver.find_elements(By.XPATH,'//*[@id=\"app\"]/div[2]/div[2]/div[1]/div[3]/div[1]/div[3]/div[2]/div')\n",
    "    if page_cards == []:\n",
    "        print('No elements found')\n",
    "        break\n",
    "    for card in page_cards[-k:]:\n",
    "        cmnt = get_comment_data(card)\n",
    "        if cmnt:\n",
    "            cmnt_id = ''.join(cmnt)\n",
    "            if cmnt_id not in cmnt_ids:\n",
    "                cmnt_ids.add(cmnt_id)\n",
    "                data.append(cmnt)\n",
    "                df.loc[len(df)] = cmnt\n",
    "                while k!=25:\n",
    "                    k = k+15\n",
    "            \n",
    "    scroll_attempt = 0\n",
    "    html.send_keys(Keys.PAGE_DOWN)\n",
    "    html.send_keys(Keys.PAGE_DOWN)\n",
    "    html.send_keys(Keys.PAGE_DOWN)\n",
    "    \n",
    "    if(n==len(df)):\n",
    "    strike = strike+1\n",
    "    if strike==5:\n",
    "        break\n",
    "\n",
    "    count = count + 1\n",
    "    clear_output()\n",
    "    print(count,df['username'].count())\n",
    "    if count==500:\n",
    "        break\n",
    "        \n",
    "# close the web driver\n",
    "driver.close()"
   ]
  },
  {
   "cell_type": "code",
   "execution_count": null,
   "id": "b221368a",
   "metadata": {},
   "outputs": [],
   "source": [
    "df.count()"
   ]
  },
  {
   "cell_type": "code",
   "execution_count": null,
   "id": "5496ec37",
   "metadata": {},
   "outputs": [],
   "source": [
    "df.to_csv('CommentData.csv')"
   ]
  }
 ],
 "metadata": {
  "kernelspec": {
   "display_name": "Python 3 (ipykernel)",
   "language": "python",
   "name": "python3"
  },
  "language_info": {
   "codemirror_mode": {
    "name": "ipython",
    "version": 3
   },
   "file_extension": ".py",
   "mimetype": "text/x-python",
   "name": "python",
   "nbconvert_exporter": "python",
   "pygments_lexer": "ipython3",
   "version": "3.9.12"
  }
 },
 "nbformat": 4,
 "nbformat_minor": 5
}
